{
 "cells": [
  {
   "cell_type": "code",
   "execution_count": 13,
   "metadata": {},
   "outputs": [],
   "source": [
    "import pandas as pd\n",
    "import csv\n",
    "\n",
    "from surprise import SVD\n",
    "from surprise import Dataset\n",
    "from surprise import Reader\n",
    "\n",
    "def get_movies_names():\n",
    "    with open('ml-100k/u.item', encoding = \"ISO-8859-1\") as csvfile:\n",
    "        movies = list(csv.reader(csvfile, delimiter='|'))\n",
    "    \n",
    "    mov_name = {}\n",
    "    \n",
    "    for movie in movies:\n",
    "        mov_name[movie[0]] = movie[1]\n",
    "    \n",
    "    return mov_name\n",
    "\n",
    "def predict_ratings():\n",
    "    reader = Reader(line_format='user item rating timestamp', sep='\\t')\n",
    "    data = Dataset.load_from_file('ml-100k/u.data', reader=reader)\n",
    "    trainset = data.build_full_trainset()\n",
    "\n",
    "    algo = SVD()\n",
    "    algo.fit(trainset)\n",
    "\n",
    "    # Than predict ratings for all pairs (u, i) that are not in the training set.\n",
    "    testset = trainset.build_anti_testset()\n",
    "    predictions = algo.test(testset)\n",
    "    \n",
    "    return predictions\n",
    "\n",
    "def recommendations_for_user(usr):\n",
    "    \n",
    "    predictions = predict_ratings()\n",
    "    \n",
    "    df = pd.DataFrame()\n",
    "    movies = get_movies_names()\n",
    "\n",
    "    for user, item, rate, est, _ in predictions:\n",
    "        if user == usr:\n",
    "            df = df.append({\"item\":movies[item], \"est\":float(est)}, ignore_index=True)\n",
    "\n",
    "    df = df.set_index(\"item\").sort_values(by=['est'], ascending=False)\n",
    "    display(df.head(5))"
   ]
  },
  {
   "cell_type": "code",
   "execution_count": 14,
   "metadata": {},
   "outputs": [
    {
     "data": {
      "text/html": [
       "<div>\n",
       "<style scoped>\n",
       "    .dataframe tbody tr th:only-of-type {\n",
       "        vertical-align: middle;\n",
       "    }\n",
       "\n",
       "    .dataframe tbody tr th {\n",
       "        vertical-align: top;\n",
       "    }\n",
       "\n",
       "    .dataframe thead th {\n",
       "        text-align: right;\n",
       "    }\n",
       "</style>\n",
       "<table border=\"1\" class=\"dataframe\">\n",
       "  <thead>\n",
       "    <tr style=\"text-align: right;\">\n",
       "      <th></th>\n",
       "      <th>est</th>\n",
       "    </tr>\n",
       "    <tr>\n",
       "      <th>item</th>\n",
       "      <th></th>\n",
       "    </tr>\n",
       "  </thead>\n",
       "  <tbody>\n",
       "    <tr>\n",
       "      <th>Close Shave, A (1995)</th>\n",
       "      <td>4.992223</td>\n",
       "    </tr>\n",
       "    <tr>\n",
       "      <th>Godfather, The (1972)</th>\n",
       "      <td>4.975086</td>\n",
       "    </tr>\n",
       "    <tr>\n",
       "      <th>Godfather: Part II, The (1974)</th>\n",
       "      <td>4.940345</td>\n",
       "    </tr>\n",
       "    <tr>\n",
       "      <th>12 Angry Men (1957)</th>\n",
       "      <td>4.928660</td>\n",
       "    </tr>\n",
       "    <tr>\n",
       "      <th>Rear Window (1954)</th>\n",
       "      <td>4.921993</td>\n",
       "    </tr>\n",
       "  </tbody>\n",
       "</table>\n",
       "</div>"
      ],
      "text/plain": [
       "                                     est\n",
       "item                                    \n",
       "Close Shave, A (1995)           4.992223\n",
       "Godfather, The (1972)           4.975086\n",
       "Godfather: Part II, The (1974)  4.940345\n",
       "12 Angry Men (1957)             4.928660\n",
       "Rear Window (1954)              4.921993"
      ]
     },
     "metadata": {},
     "output_type": "display_data"
    }
   ],
   "source": [
    "recommendations_for_user(\"9\")"
   ]
  }
 ],
 "metadata": {
  "kernelspec": {
   "display_name": "Python 3",
   "language": "python",
   "name": "python3"
  },
  "language_info": {
   "codemirror_mode": {
    "name": "ipython",
    "version": 3
   },
   "file_extension": ".py",
   "mimetype": "text/x-python",
   "name": "python",
   "nbconvert_exporter": "python",
   "pygments_lexer": "ipython3",
   "version": "3.7.2"
  }
 },
 "nbformat": 4,
 "nbformat_minor": 4
}
